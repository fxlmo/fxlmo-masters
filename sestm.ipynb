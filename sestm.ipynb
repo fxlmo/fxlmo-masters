{
 "cells": [
  {
   "cell_type": "markdown",
   "metadata": {},
   "source": [
    "# SESTM - Sentiment Extraction via Screening and Topic Modelling\n",
    "This is a novel sentiment extraction algorithm that gleans sentiment from realised stock returns. This notebook will walk you through how the nitty gritty of how exactly it works\n",
    "\n",
    "First things first, import this absolute monstrosity of imports; we'll be needing all of them."
   ]
  },
  {
   "cell_type": "code",
   "execution_count": 1,
   "metadata": {},
   "outputs": [],
   "source": [
    "import re\n",
    "import sklearn\n",
    "from scipy.optimize import fminbound\n",
    "from sklearn import preprocessing\n",
    "# import scikit-learn\n",
    "import numpy as np\n",
    "from numpy.linalg import inv\n",
    "from pathlib import Path\n",
    "from bs4 import BeautifulSoup as bs\n",
    "# from textblob import TextBlob as tb\n",
    "import math\n",
    "import matplotlib.pyplot as plt\n",
    "import nltk\n",
    "from nltk.stem import WordNetLemmatizer\n",
    "from nltk.corpus import stopwords\n",
    "import json\n",
    "import os\n",
    "import random"
   ]
  },
  {
   "cell_type": "code",
   "execution_count": 14,
   "metadata": {},
   "outputs": [
    {
     "name": "stderr",
     "output_type": "stream",
     "text": [
      "[nltk_data] Downloading package stopwords to /home/josh/nltk_data...\n",
      "[nltk_data]   Package stopwords is already up-to-date!\n",
      "[nltk_data] Downloading package words to /home/josh/nltk_data...\n",
      "[nltk_data]   Package words is already up-to-date!\n",
      "[nltk_data] Downloading package wordnet to /home/josh/nltk_data...\n",
      "[nltk_data]   Unzipping corpora/wordnet.zip.\n"
     ]
    },
    {
     "data": {
      "text/plain": [
       "True"
      ]
     },
     "execution_count": 14,
     "metadata": {},
     "output_type": "execute_result"
    }
   ],
   "source": [
    "# install nltk stuff\n",
    "nltk.download('stopwords')\n",
    "nltk.download('words')\n",
    "nltk.download('wordnet')"
   ]
  },
  {
   "cell_type": "markdown",
   "metadata": {},
   "source": [
    "Now that that's out of the way, let's define some sample articles to demonstrate how it works. Normally, I would pull articles from the Refinitiv Eikon API, which returns the webpage with the content inside. I've simulated this somwhat by using `<p>` tags, but the general idea for real articles is the same as these sample ones\n",
    "\n",
    "Here are three sample articles that I made up:"
   ]
  },
  {
   "cell_type": "code",
   "execution_count": 2,
   "metadata": {},
   "outputs": [],
   "source": [
    "article_1 = {\n",
    "    'date': '2021-12-23 12:58:45.061000+00:00',\n",
    "    'ticker': 'ABDN',\n",
    "    'mrkt_info': {\n",
    "        'open': 233.7,\n",
    "        'close': 200.3\n",
    "    },\n",
    "    'html': '<p>John likes to watch films and eat pizza.\\nMary likes pizza too.</p>'\n",
    "}\n",
    "\n",
    "article_2 = {\n",
    "    'date': '2022-01-26 07:11:46.774000+00:00',\n",
    "    'ticker': 'ABDN', \n",
    "    'mrkt_info': {\n",
    "        'open': 229.2,\n",
    "        'close': 241.0\n",
    "    },\n",
    "    'html': '<p>Mary also likes to watch football games and films. She prefers films. </p>'\n",
    "}\n",
    "\n",
    "article_3 = {\n",
    "    'date': '2021-10-25 13:22:07.985000+00:00',\n",
    "    'ticker': 'ABDN',\n",
    "    'mrkt_info': {\n",
    "        'open': 250.3,\n",
    "        'close': 258.5\n",
    "    },\n",
    "    'html': '<p>Carl likes to play football. He finds films boring.</p>'\n",
    "}\n",
    "\n",
    "art_list = [article_1, article_2, article_3]"
   ]
  },
  {
   "cell_type": "markdown",
   "metadata": {},
   "source": [
    "## Pre processing\n",
    "We now need to define some things about these articles, namely:\n",
    "1. The bag of words representation\n",
    "2. The sign of the article (`sgn`)\n",
    "3. The articles realised returns for article $i$ ($y_i$)\n",
    "\n",
    "Steps 2 and 3 are the easiest, so let's do those first."
   ]
  },
  {
   "cell_type": "code",
   "execution_count": 3,
   "metadata": {},
   "outputs": [
    {
     "name": "stdout",
     "output_type": "stream",
     "text": [
      "Returns for article 1: -33.39999999999998\n",
      "Sign for article 1: -1\n",
      "Returns for article 2: 11.800000000000011\n",
      "Sign for article 2: 1\n",
      "Returns for article 3: 8.199999999999989\n",
      "Sign for article 3: 1\n"
     ]
    }
   ],
   "source": [
    "sgn = []    # list of article signs\n",
    "y = []      # list of realised returns\n",
    "i = 1\n",
    "\n",
    "def calc_returns(article):\n",
    "    returns = article['mrkt_info']['close'] - a['mrkt_info']['open']\n",
    "    sgn_a = -1\n",
    "    if (returns > 0): # add -1 if returns are 0 or less, 1 otherwise\n",
    "        sgn_a = 1\n",
    "    return (returns, sgn_a)\n",
    "\n",
    "for a in art_list:\n",
    "    (returns, sgn_a) = calc_returns(a)\n",
    "    sgn.append(sgn_a)\n",
    "    y.append(returns)\n",
    "    print(\"Returns for article \" + str(i) + \": \" + str(returns))\n",
    "    print(\"Sign for article \" + str(i) + \": \" + str(sgn_a))\n",
    "    i +=1"
   ]
  },
  {
   "cell_type": "markdown",
   "metadata": {},
   "source": [
    "Now we need to prepare the bag of words (BOW) representation for each of the articles. Before we can do that we need to *extract* the actual text content from the HTML, and then *normalise* the text content. Normlising consists of:\n",
    "- Converting to lower case\n",
    "- Removing non alphabetic chars\n",
    "- Removing stop words (pronouns, connectives, etc.)\n",
    "- Removing non-english words\n",
    "- Lemmatising (converting likes to likes etc.)\n",
    "- Tokenising (converting to list of words)\n",
    "\n",
    "A bit of notation here:\n",
    "- We have a collection of $n$ news articles and a dictionary of $m$ words\n",
    "- We record the word counts in the $i^{th}$ article in vector $d_i$\n",
    "    - $d_{i,j}$ is the number of times word $j$ appears in article $i$\n",
    "    - $D = [d_{1}, ..., d_{n}]$ is an $m \\times n$ doc-term matrix.\n",
    "    - We occasionally work with a subset of columns where only indices are those with sentiment, we define this as $d_{[S],i}$"
   ]
  },
  {
   "cell_type": "code",
   "execution_count": 4,
   "metadata": {},
   "outputs": [
    {
     "name": "stdout",
     "output_type": "stream",
     "text": [
      "Text for article 1: 'john likes to watch films and eat pizza.\n",
      "mary likes pizza too.'\n",
      "BOW for article 1: {'like': 2, 'watch': 1, 'film': 1, 'eat': 1, 'pizza': 2, 'mary': 1}\n",
      "Text for article 2: 'mary also likes to watch football games and films. she prefers films. '\n",
      "BOW for article 2: {'mary': 1, 'also': 1, 'like': 1, 'watch': 1, 'football': 1, 'game': 1, 'film': 2, 'prefer': 1}\n",
      "Text for article 3: 'carl likes to play football. he finds films boring.'\n",
      "BOW for article 3: {'carl': 1, 'like': 1, 'play': 1, 'football': 1, 'find': 1, 'film': 1, 'bore': 1}\n",
      "[{'like': 2, 'watch': 1, 'film': 1, 'eat': 1, 'pizza': 2, 'mary': 1}, {'mary': 1, 'also': 1, 'like': 1, 'watch': 1, 'football': 1, 'game': 1, 'film': 2, 'prefer': 1}, {'carl': 1, 'like': 1, 'play': 1, 'football': 1, 'find': 1, 'film': 1, 'bore': 1}]\n",
      "\n",
      "\n"
     ]
    }
   ],
   "source": [
    "STOP_WORDS = set(stopwords.words('english'))\n",
    "global_bow = {} # global bag of words\n",
    "d = []          # word count vector d, where di is the word count vector for article i\n",
    "\n",
    "def html_to_bow(html):\n",
    "    readable_text = bs(html, 'lxml').get_text().lower()\n",
    "    print(\"Text for article \" + str(i) + \": '\" + readable_text + \"'\")\n",
    "    # substitute non alphabet chars (new lines become spaces)\n",
    "    readable_text = re.sub(r'\\n', ' ', readable_text)\n",
    "    readable_text = re.sub(r'[^a-z ]', '', readable_text)\n",
    "    # sub multiple spaces with one space\n",
    "    readable_text = re.sub(r'\\s+', ' ', readable_text)\n",
    "    # tokenise text\n",
    "    words = nltk.wordpunct_tokenize(readable_text)\n",
    "    bow_art = {}\n",
    "    if len(words) > 0:\n",
    "        # lemmatise, remove non-english, and remove stopwords\n",
    "        lemmatizer = WordNetLemmatizer()\n",
    "        lemmatised_words = []\n",
    "        en_words = set(nltk.corpus.words.words())\n",
    "        for w in words:\n",
    "            rootword = lemmatizer.lemmatize(w, pos=\"v\")\n",
    "            if rootword not in STOP_WORDS and rootword in en_words:\n",
    "                lemmatised_words.append(rootword)\n",
    "        # convert to bag of words\n",
    "        # global_bow = {l: val+1 for l in lemmatised_words for val in global_bow.get(l, 0)}\n",
    "        # bow_art = {l: val+1 for l in lemmatised_words for val in global_bow.get(l, 0)}\n",
    "        for l in lemmatised_words:\n",
    "            if l in bow_art:\n",
    "                bow_art[l] += 1\n",
    "            else:\n",
    "                bow_art[l] = 1\n",
    "    \n",
    "    return bow_art\n",
    "\n",
    "i = 1\n",
    "for a in art_list:\n",
    "    raw_html = a['html']\n",
    "    if (raw_html): # when extracting articles from eikon, some articles are just pdfs, so this might not exist\n",
    "            bow_art = html_to_bow(raw_html)\n",
    "            print(\"BOW for article \" + str(i) + \": \" + str(bow_art))\n",
    "            d.append(bow_art)\n",
    "    i += 1\n",
    "\n",
    "print(d)\n",
    "print('\\n')\n",
    "# print(\"Global BOW: \" + str(global_bow))\n"
   ]
  },
  {
   "cell_type": "markdown",
   "metadata": {},
   "source": [
    "## Screening for sentiment-charged words\n",
    "With our BOWs now defined, we can move onto the maths.\n",
    "\n",
    "Our first step calculates the frequency word $j$ co-occurs with a positive return:\n",
    "\n",
    "$$f_j = \\frac{\\text{count of word } j \\text{ in article with } sgn(y) = + 1}{\\text{ count of word } j \\text{ in all articles}}$$"
   ]
  },
  {
   "cell_type": "code",
   "execution_count": 5,
   "metadata": {},
   "outputs": [
    {
     "name": "stdout",
     "output_type": "stream",
     "text": [
      "f_j = \n",
      "like: 2/4\n",
      "watch: 1/2\n",
      "film: 3/4\n",
      "eat: 0/1\n",
      "pizza: 0/2\n",
      "mary: 1/2\n",
      "also: 1/1\n",
      "football: 2/2\n",
      "game: 1/1\n",
      "prefer: 1/1\n",
      "carl: 1/1\n",
      "play: 1/1\n",
      "find: 1/1\n",
      "bore: 1/1\n"
     ]
    }
   ],
   "source": [
    "def calc_f(d):\n",
    "    pos_j = {}  #j occuring in positive article\n",
    "    total_j = {}#j occuring in any article\n",
    "    f = {}      #fraction of positive occurrences\n",
    "    for i in range(len(d)):\n",
    "        for w in d[i]:\n",
    "            # pos_sent = sgn[i]\n",
    "            pos_sent = 0\n",
    "            if (sgn[i] == 1): pos_sent = 1\n",
    "            if w in total_j:\n",
    "                total_j[w] += d[i][w]\n",
    "                pos_j[w] += d[i][w]*pos_sent\n",
    "            else:\n",
    "                total_j[w] = d[i][w]\n",
    "                pos_j[w] = d[i][w]*pos_sent\n",
    "            f[w] = pos_j[w]/total_j[w]\n",
    "    return (pos_j, total_j, f)\n",
    "\n",
    "\n",
    "(pos_j, total_j, f) = calc_f(d)\n",
    "print(\"f_j = \")\n",
    "for w in total_j:\n",
    "    print(w + \": \" + str(pos_j[w]) + \"/\" + str(total_j[w]))"
   ]
  },
  {
   "cell_type": "markdown",
   "metadata": {},
   "source": [
    "Now we can generate our list of sentiment charged words. Also, be aware that $\\hat \\pi$ is the fraction of articles marked with $sgn(y) = +1$. Normally, we would calculate this, but since there are only three, I'll just say it's $\\hat \\pi = 2/3$. In practice, $\\hat \\pi \\approx 1/2$\n",
    "\n",
    "At this point, we introduce some **hyper-parameters** that we can tune for an optimal model:\n",
    "- $\\alpha_{+}, \\alpha_{-}$ are the upper and lower thresholds respectively that determine a word is sentimentally charged (or not). For this set of data, so that any word $j$ with $0.47 \\le f_j \\le 0.67$ is sentiment neutral, we set:\n",
    "    - $\\alpha_- = 0.2$ \n",
    "    - $\\alpha_+ = 0$ \n",
    "- $\\kappa$ is the minimum frequency with which a word should appear across all articles to avoid low frequency words messing up data.\n",
    "    - Because our example dataset is very small, we will set $\\kappa = 1$, so we remove this constraint for now.\n",
    "\n",
    "This gives us the set of sentiment charged words $\\hat S$:\n",
    "$$\\hat S = \\{j: f_j \\ge \\hat \\pi + \\alpha_+ \\text{ or } f_j \\le \\hat \\pi - \\alpha_-\\} \\cap \\{j:k_j \\ge \\kappa\\}$$\n",
    "\n",
    "which in our case is\n",
    "\n",
    "$$\\hat S = \\left\\{j: f_j \\ge \\frac{2}{3} \\text{ or } f_j \\le \\frac{2}{3} - 0.2 \\right\\} \\cap \\{j:k_j \\ge 0 \\}$$"
   ]
  },
  {
   "cell_type": "code",
   "execution_count": 6,
   "metadata": {},
   "outputs": [],
   "source": [
    "#Hyper params\n",
    "ALPHA_PLUS  = 0     # default for example: 0\n",
    "ALPHA_MINUS = 0.2   # default for example: 0.2\n",
    "KAPPA       = 1    # default for example: 1"
   ]
  },
  {
   "cell_type": "code",
   "execution_count": 7,
   "metadata": {},
   "outputs": [
    {
     "name": "stdout",
     "output_type": "stream",
     "text": [
      "0.6666666666666666\n",
      "S = ['film', 'eat', 'pizza', 'also', 'football', 'game', 'prefer', 'carl', 'play', 'find', 'bore']\n",
      "N = ['like', 'watch', 'mary']\n"
     ]
    }
   ],
   "source": [
    "def gen_sent_word_list(total_j,sgn):\n",
    "    pi = sum(sgn_i > 0 for sgn_i in sgn)/len(sgn)\n",
    "    print(pi)\n",
    "    sentiment_words = [] # S\n",
    "    neutral_words = []   # N\n",
    "    for i in total_j:\n",
    "        if ((f[i] >= pi + ALPHA_PLUS or f[i] <= pi - ALPHA_MINUS) and total_j[i] >= KAPPA):\n",
    "            sentiment_words.append(i)\n",
    "        else:\n",
    "            neutral_words.append(i)\n",
    "    return(sentiment_words, neutral_words)\n",
    "\n",
    "(sentiment_words, neutral_words) = gen_sent_word_list(total_j,sgn)\n",
    "print(\"S = \" + str(sentiment_words))\n",
    "print(\"N = \" + str(neutral_words))"
   ]
  },
  {
   "cell_type": "markdown",
   "metadata": {},
   "source": [
    "## Learning Sentiment Topics\n",
    "Ok, so we have the wordlise $S$, now we just need to fit a two-topic model to these word counts. We gather these in a matrix $O = [O_+,O_-]$ which determines the expected counts of sentiment charged words in each article.\n",
    "\n",
    "To measure how much article $i$ tilts in favour of a certain sentiment, we say the estimated sentiment of article $i$ is $\\hat p_i$ such that:\n",
    "$$\\hat p_i = \\frac{\\text{rank of } y_i \\text{ in } \\{y_l\\}_{l=1}^n}{n}$$"
   ]
  },
  {
   "cell_type": "code",
   "execution_count": 8,
   "metadata": {},
   "outputs": [
    {
     "name": "stdout",
     "output_type": "stream",
     "text": [
      "p_1: 1.0\n",
      "p_2: 0.33333333333333337\n",
      "p_3: 0.6666666666666667\n"
     ]
    }
   ],
   "source": [
    "# Calculates p_i\n",
    "def calc_p(y):\n",
    "    p = [0] * len(y)\n",
    "    for i, x in enumerate(sorted(range(len(y)), key=lambda y_lam: y[y_lam])):\n",
    "        p[x] = float(1 - i/len(y))\n",
    "    return p\n",
    "\n",
    "p  = calc_p(y)\n",
    "for i in range(len(p)):\n",
    "    print(\"p_\" + str(i+1) + \": \" + str(p[i]))"
   ]
  },
  {
   "cell_type": "markdown",
   "metadata": {},
   "source": [
    "We also require the estimated $|S| \\times 1$ vector of word frequencies for article $i$, denoted $\\hat h_i$:\n",
    "$$\\hat h_i = \\frac{d_{[S],i}}{\\hat s_i} \\quad \\text{where } \\hat s_i = \\sum_{j \\in \\hat S} d_{j,i}$$"
   ]
  },
  {
   "cell_type": "code",
   "execution_count": 9,
   "metadata": {},
   "outputs": [],
   "source": [
    "\n",
    "# Calculates s_i\n",
    "def calc_s(sentiment_words, d):\n",
    "    s = []                                          # ith element corresponds to total count of sentiment charged words for document i\n",
    "    d_s = []                                        # ith element corresponds to list of word counts for each of the sentiment charged words for document i\n",
    "    for doc in d:\n",
    "        s.append(sum(doc.get(val,0) for val in sentiment_words))\n",
    "        d_s.append([doc.get(val,0) for val in sentiment_words])\n",
    "    return (s, d_s)"
   ]
  },
  {
   "cell_type": "code",
   "execution_count": 10,
   "metadata": {},
   "outputs": [
    {
     "name": "stdout",
     "output_type": "stream",
     "text": [
      "s_1:4\n",
      "d_(s,1):[1, 1, 2, 0, 0, 0, 0, 0, 0, 0, 0]\n",
      "s_2:6\n",
      "d_(s,2):[2, 0, 0, 1, 1, 1, 1, 0, 0, 0, 0]\n",
      "s_3:6\n",
      "d_(s,3):[1, 0, 0, 0, 1, 0, 0, 1, 1, 1, 1]\n"
     ]
    }
   ],
   "source": [
    "(s, d_s) = calc_s(sentiment_words,d)\n",
    "for i in range(len(s)):\n",
    "    print(\"s_\" + str(i+1) + \":\" + str(s[i]))\n",
    "    print(\"d_(s,\" + str(i+1) + \"):\" + str(d_s[i]))"
   ]
  },
  {
   "cell_type": "code",
   "execution_count": 11,
   "metadata": {},
   "outputs": [],
   "source": [
    "# Calculates h_i\n",
    "def calc_h(sentiment_words, d):\n",
    "    h = np.zeros((len(d), len(sentiment_words)))    # ith element corresponds to |S|x1 vector of word frequencies divided by total sentiment words in doc i\n",
    "\n",
    "    for i in range(len(d)):\n",
    "        # subvector of sentiment words in d_i\n",
    "        if (s[i] == 0) :\n",
    "            h[i] = np.zeros(len(sentiment_words)).transpose()\n",
    "        else:\n",
    "            h[i] = np.array([(j/s[i]) for j in d_s[i]]).transpose()\n",
    "    return h"
   ]
  },
  {
   "cell_type": "code",
   "execution_count": 12,
   "metadata": {},
   "outputs": [
    {
     "name": "stdout",
     "output_type": "stream",
     "text": [
      "h_1:[0.25 0.25 0.5  0.   0.   0.   0.   0.   0.   0.   0.  ]\n",
      "h_2:[0.33333333 0.         0.         0.16666667 0.16666667 0.16666667\n",
      " 0.16666667 0.         0.         0.         0.        ]\n",
      "h_3:[0.16666667 0.         0.         0.         0.16666667 0.\n",
      " 0.         0.16666667 0.16666667 0.16666667 0.16666667]\n"
     ]
    }
   ],
   "source": [
    "h = calc_h(sentiment_words,d)\n",
    "for i in range(len(h)):\n",
    "    print(\"h_\" + str(i+1) + \":\" + str(h[i]))"
   ]
  },
  {
   "cell_type": "markdown",
   "metadata": {},
   "source": [
    "\n",
    "We now have all the tools we need to estimate $O$ ($\\hat O$):\n",
    "$$\\hat O = [\\hat h_1, \\hat h_2, ..., \\hat h_n] \\widehat W' (\\widehat W \\widehat W')^{-1} \\quad \\text{where } \\widehat W =\n",
    "\\begin{bmatrix}\n",
    "\\hat p_1 & \\hat p_2 & \\cdots & \\hat p_n \\\\\n",
    "1- \\hat p_1 & 1-\\hat p_2 & \\cdots & 1-\\hat p_n\n",
    "\\end{bmatrix}$$\n",
    "\n",
    "Finally, we set all negative entries for $\\hat O$ to 0, and normalise the columns to have $\\ell^1$-norm"
   ]
  },
  {
   "cell_type": "code",
   "execution_count": 13,
   "metadata": {},
   "outputs": [],
   "source": [
    "# Calculates O\n",
    "def calc_o(p,h):\n",
    "    p_inv = [(1-val) for val in p]\n",
    "    W = np.column_stack((p, p_inv))\n",
    "    W = W.transpose()\n",
    "    ww = np.matmul(W,W.transpose())\n",
    "    w2 = np.matmul(W.transpose(), inv(ww))\n",
    "    O = np.matmul(h.transpose(),w2)\n",
    "    O[O < 0] = 0 # remove negative entries of O\n",
    "    O = O.transpose()\n",
    "    # Normalise O columns to have l1 norm\n",
    "    O = sklearn.preprocessing.normalize(O,norm='l1')\n",
    "    #! swapped these around because otherwise it didnt make any sense (check this)\n",
    "    temp0 = np.array(O[0])\n",
    "    temp1 = np.array(O[1])\n",
    "    O[1] = temp0\n",
    "    O[0] = temp1\n",
    "    O = O.transpose()\n",
    "    return O"
   ]
  },
  {
   "cell_type": "code",
   "execution_count": 14,
   "metadata": {},
   "outputs": [
    {
     "name": "stdout",
     "output_type": "stream",
     "text": [
      "      Word                   O+                   O-   f_j\n",
      "==================================================================\n",
      "      film   0.2222222222222222  0.19230769230769235  0.75\n",
      "       eat                  0.0   0.1923076923076923   0.0\n",
      "     pizza                  0.0   0.3846153846153846   0.0\n",
      "      also  0.14814814814814817                  0.0   1.0\n",
      "  football  0.18518518518518517 0.025641025641025664   1.0\n",
      "      game  0.14814814814814817                  0.0   1.0\n",
      "    prefer  0.14814814814814817                  0.0   1.0\n",
      "      carl  0.03703703703703702 0.051282051282051294   1.0\n",
      "      play  0.03703703703703702 0.051282051282051294   1.0\n",
      "      find  0.03703703703703702 0.051282051282051294   1.0\n",
      "      bore  0.03703703703703702 0.051282051282051294   1.0\n"
     ]
    }
   ],
   "source": [
    "O = calc_o(p,h)\n",
    "print(\"{: >10} {: >20} {: >20} {: >5}\".format(\"Word\", \"O+\", \"O-\", \"f_j\"))\n",
    "print(\"==================================================================\")\n",
    "for i in range(len(O)):\n",
    "    print(\"{: >10} {: >20} {: >20} {: >5}\".format(sentiment_words[i] , str(O[i][0]), str(O[i][1]), str(f[sentiment_words[i]])))"
   ]
  },
  {
   "cell_type": "markdown",
   "metadata": {},
   "source": [
    "You might notice here that the last few entries in $\\hat O$ for this example are very close to equal in both positive and negative. This is because these entries correspond to sentiment-charged words that only appear in article 3, which would be ranked 2/3, or in other words, directly in the middle. This makes the word neutral overall in this context, evidenced by the two values being equal.\n",
    "\n",
    "## Scoring new articles\n",
    "With our shiny new estimates for sentiment-charged words and our $\\hat O$, we can now estimate sentiment of articles not in our dataset. So, let's define a new article we want to estimate."
   ]
  },
  {
   "cell_type": "code",
   "execution_count": 15,
   "metadata": {},
   "outputs": [],
   "source": [
    "article_4 = {\n",
    "    'date': '2022-02-15 16:23:17.923000+00:00',\n",
    "    'ticker': 'ABDN',\n",
    "    # 'mrkt_info': {\n",
    "    #     'open': 250.3,\n",
    "    #     'close': 258.5\n",
    "    # },\n",
    "    'html': '<p>Josh likes to play football. He finds films tiring.</p>'\n",
    "}"
   ]
  },
  {
   "cell_type": "markdown",
   "metadata": {},
   "source": [
    "It's basically the same as article 3, so we would expect the predicted outcome to have a similar $p$ to this article.\n",
    "\n",
    "Let's turn it into a bag of words like before:"
   ]
  },
  {
   "cell_type": "code",
   "execution_count": 16,
   "metadata": {},
   "outputs": [
    {
     "name": "stdout",
     "output_type": "stream",
     "text": [
      "Text for article 1: 'josh likes to play football. he finds films tiring.'\n",
      "BOW for article 1: {'carl': 1, 'like': 1, 'play': 1, 'football': 1, 'find': 1, 'film': 1, 'bore': 1}\n"
     ]
    }
   ],
   "source": [
    "new_art_list = [article_4]\n",
    "new_bow = {}\n",
    "i = 1\n",
    "for a in new_art_list:\n",
    "    raw_html = a['html']\n",
    "    if (raw_html): # when extracting articles from eikon, some articles are just pdfs, so this might not exist\n",
    "        new_bow = html_to_bow(raw_html)\n",
    "        print(\"BOW for article \" + str(i) + \": \" + str(bow_art))\n",
    "    i += 1"
   ]
  },
  {
   "cell_type": "markdown",
   "metadata": {},
   "source": [
    "Before we get to the estimating, we need to calculate $\\hat s$ for the new article (total count of words from $\\hat S$)."
   ]
  },
  {
   "cell_type": "code",
   "execution_count": 17,
   "metadata": {},
   "outputs": [
    {
     "name": "stdout",
     "output_type": "stream",
     "text": [
      "new s: 4\n"
     ]
    }
   ],
   "source": [
    "new_s = sum(new_bow.get(w,0) for w in sentiment_words)\n",
    "# for w in sentiment_words:\n",
    "#     new_s += new_bow.get(w, 0)\n",
    "\n",
    "print(\"new s: \" + str(new_s))"
   ]
  },
  {
   "cell_type": "markdown",
   "metadata": {},
   "source": [
    "Now, we just estimate $p_4$ using **maximum likelihood estimation** (MLE) because it is statistically efficient. We also add a penalty term $\\lambda \\log(p(1-p))$ where $\\lambda > 0$ is a tuning parameter. This is to help with limited numbers of observations and low signal-to-noise ratios, to give us:\n",
    "\n",
    "$$\\hat p = \\arg \\max_{p \\in [0,1]} \\left\\{ \\hat s^{-1} \\sum_{j\\in \\hat S} d_j \\log \\left( p \\hat O_{+,j} + (1-p) \\hat O_{-,j} \\right) + \\lambda \\log(p(1-p))\\right\\}$$\n"
   ]
  },
  {
   "cell_type": "code",
   "execution_count": 18,
   "metadata": {},
   "outputs": [],
   "source": [
    "def equation_to_solve(p_solve, new_bow, sentiment_words, new_s):\n",
    "    i = 0\n",
    "    equation = 0\n",
    "    lam = 1\n",
    "    for j in sentiment_words:\n",
    "        # a = (new_bow.get(j,0) * math.log(new_p*O[i][0] + (1-new_p)*O[i][1]))\n",
    "        d_j = new_bow.get(j,0)\n",
    "        in_log = p_solve*O[i][0] + (1-p_solve)*O[i][1]\n",
    "        if not in_log == 0:\n",
    "            equation += d_j * math.log(p_solve*O[i][0] + (1-p_solve)*O[i][1])\n",
    "\n",
    "        i += 1\n",
    "        # i += 1/new_s + lam * (new_p*(1-new_p))\n",
    "\n",
    "    # if new_s == 0:\n",
    "    #     new_s = 1\n",
    "    equation /= new_s\n",
    "    equation += lam*(p_solve*(1-p_solve))\n",
    "    equation *= -1 #flip equation for argmin\n",
    "    return equation"
   ]
  },
  {
   "cell_type": "code",
   "execution_count": 19,
   "metadata": {},
   "outputs": [
    {
     "data": {
      "image/png": "[encoded data removed]",
      "text/plain": [
       "<Figure size 432x288 with 1 Axes>"
      ]
     },
     "metadata": {
      "needs_background": "light"
     },
     "output_type": "display_data"
    },
    {
     "name": "stdout",
     "output_type": "stream",
     "text": [
      "Argmax when p=0.5990137326322992\n",
      "Sentiment words in article 3: {'play', 'football', 'carl', 'bore', 'film', 'find'}\n",
      "Sentiment words in article 4: {'play', 'film', 'find', 'football'}\n"
     ]
    }
   ],
   "source": [
    "points = int(100)\n",
    "xmin, xmax = 0.0, 1.0\n",
    "xlist = np.linspace(0,1,101)\n",
    "ylist = np.zeros(0)\n",
    "index = 0\n",
    "for x in xlist:\n",
    "    ylist = np.append(ylist,equation_to_solve(x, new_bow, sentiment_words,new_s))\n",
    "    index += 1\n",
    "# xlist = map(lambda x: float(xmax - xmin)*x/points, range(points+1))\n",
    "ylist *= -1\n",
    "plt.plot(xlist, ylist)\n",
    "plt.xlabel('p value')\n",
    "plt.title(label='Values of p between 0 and 1')\n",
    "plt.show()\n",
    "\n",
    "est_p = fminbound(equation_to_solve, 0, 1, (new_bow, sentiment_words,new_s))\n",
    "print(\"Argmax when p=\" + str(est_p))\n",
    "print(\"Sentiment words in article 3: \" + str(set(list(d[2])).intersection(sentiment_words)))\n",
    "print(\"Sentiment words in article 4: \" + str(set(list(new_bow)).intersection(sentiment_words)))\n"
   ]
  },
  {
   "cell_type": "markdown",
   "metadata": {},
   "source": [
    "The $p$ value is approximately 0.6, which is really close to that of article 3. Since it shares virtually all of the sentimentally charged words with this article, the estimation is good considering the sparse example dataset provided\n",
    "\n",
    "We can also play around with different values of lambda to see which is best:"
   ]
  },
  {
   "cell_type": "code",
   "execution_count": 215,
   "metadata": {},
   "outputs": [
    {
     "data": {
      "image/png": "[encoded data removed]",
      "text/plain": [
       "<Figure size 432x288 with 1 Axes>"
      ]
     },
     "metadata": {
      "needs_background": "light"
     },
     "output_type": "display_data"
    }
   ],
   "source": [
    "\n",
    "def equation_to_solve_lam(p_solve, lam):\n",
    "    i = 0\n",
    "    equation = 0\n",
    "    # lam = 1\n",
    "    for j in sentiment_words:\n",
    "        # a = (new_bow.get(j,0) * math.log(new_p*O[i][0] + (1-new_p)*O[i][1]))\n",
    "        d_j = new_bow.get(j,0)\n",
    "        in_log = p_solve*O[i][0] + (1-p_solve)*O[i][1]\n",
    "        if not in_log == 0:\n",
    "            equation += d_j * math.log(p_solve*O[i][0] + (1-p_solve)*O[i][1])\n",
    "\n",
    "        i += 1\n",
    "        # i += 1/new_s + lam * (new_p*(1-new_p))\n",
    "\n",
    "    equation /= new_s\n",
    "    equation += lam*(p_solve*(1-p_solve))\n",
    "    equation *= -1 #flip equation for argmin\n",
    "    return equation\n",
    "\n",
    "for lam in np.linspace(1,100,11):\n",
    "    points = int(100)\n",
    "    xmin, xmax = 0.0, 1.0\n",
    "    xlist = np.linspace(0,1,101)\n",
    "    ylist = np.zeros(0)\n",
    "    index = 0\n",
    "    for x in xlist:\n",
    "        ylist = np.append(ylist,equation_to_solve_lam(x, lam))\n",
    "        index += 1\n",
    "    # xlist = map(lambda x: float(xmax - xmin)*x/points, range(points+1))\n",
    "    est_p = fminbound(equation_to_solve, 0, 1, (new_bow, sentiment_words,new_s))\n",
    "    ylist *= -1\n",
    "    plt.plot(xlist, ylist, label=\"LAM: \" + str(int(lam)))\n",
    "plt.xlabel('p value')\n",
    "plt.legend(bbox_to_anchor=(1.3,1), loc=\"upper right\")\n",
    "plt.title(label='Effect of lambda value on estimated p')\n",
    "plt.show()"
   ]
  },
  {
   "cell_type": "markdown",
   "metadata": {},
   "source": [
    "The predicted output tends toward 0.5 as the value of lambda increases\n",
    "\n",
    "## Testing with real data\n",
    "Now let's try with some real data I scraped using the eikon API. These articles are all concerning the stock market tickers 'III' or 'ABDN' and are from within the last 15 months. There are around 4k to play with here."
   ]
  },
  {
   "cell_type": "code",
   "execution_count": 20,
   "metadata": {},
   "outputs": [
    {
     "name": "stdout",
     "output_type": "stream",
     "text": [
      "Loaded 4015 articles\n"
     ]
    }
   ],
   "source": [
    "def extract_raw_article(article_path):\n",
    "    pathlist = Path(article_path).rglob('*.json')\n",
    "    art_list = []\n",
    "    for path in pathlist:\n",
    "        # open json\n",
    "        with open(str(path)) as json_file:\n",
    "            data = json.load(json_file)\n",
    "            art_list.append(data)\n",
    "    # return processed_articles\n",
    "    return art_list\n",
    "\n",
    "article_list = extract_raw_article(os.getcwd() + '/sestm/articles-pulled')\n",
    "print(\"Loaded \" + str(len(article_list)) + \" articles\")"
   ]
  },
  {
   "cell_type": "markdown",
   "metadata": {},
   "source": [
    "Let's preprocess this data. This will take around 10 minutes to process from scratch, so I have included the preprocessed data as a json file. This has does all of the processing (reading from file, generating bag of words, calculating signs, etc etc). If you want to do the processing now, set `PROCESS_ARTS` to true"
   ]
  },
  {
   "cell_type": "code",
   "execution_count": 21,
   "metadata": {},
   "outputs": [
    {
     "name": "stdout",
     "output_type": "stream",
     "text": [
      "Processing complete\n"
     ]
    }
   ],
   "source": [
    "# reset global variables\n",
    "sgn = []\n",
    "y = []\n",
    "global_bow = {}\n",
    "d = []\n",
    "PROCESS_ARTS = False # flag to determine whether or not to process articles in notebook\n",
    "\n",
    "if PROCESS_ARTS:\n",
    "    for a in article_list:\n",
    "        raw_html = a['html']\n",
    "        if(raw_html):\n",
    "            bow_art = html_to_bow(raw_html)\n",
    "            (returns, sgn_a) = calc_returns(a)\n",
    "            d.append(bow_art)\n",
    "            sgn.append(sgn_a)\n",
    "            y.append(returns)\n",
    "else:\n",
    "    with open('prev-data/word-vectors.json') as f:\n",
    "        d = json.load(f)\n",
    "    with open('prev-data/article-signs.json') as f:\n",
    "        sgn = json.load(f)\n",
    "    with open('prev-data/article-returns.json') as f:\n",
    "        y = json.load(f)\n",
    "print(\"Processing complete\")"
   ]
  },
  {
   "cell_type": "markdown",
   "metadata": {},
   "source": [
    "Let's now set aside 500 of these articles for testing purposes, and leave 3.5k for the training set. Here, I will just take the first 500, but with an even bigger data set, a *rolling-window* method will be used"
   ]
  },
  {
   "cell_type": "code",
   "execution_count": 22,
   "metadata": {},
   "outputs": [
    {
     "name": "stdout",
     "output_type": "stream",
     "text": [
      "Size of training data: 3385\n",
      "Size of testing data: 500\n"
     ]
    }
   ],
   "source": [
    "testing_arts = 500\n",
    "training_arts   = len(d) - testing_arts\n",
    "\n",
    "testing_d   = d[:testing_arts]\n",
    "testing_sgn = sgn[:testing_arts]\n",
    "testing_y   = y[:testing_arts]\n",
    "\n",
    "training_d      = d[testing_arts:]\n",
    "training_sgn    = sgn[testing_arts:]\n",
    "training_y      = y[testing_arts:]\n",
    "\n",
    "print(\"Size of training data: \" + str(training_arts))\n",
    "print(\"Size of testing data: \" + str(testing_arts))"
   ]
  },
  {
   "cell_type": "markdown",
   "metadata": {},
   "source": [
    "Now we have our two distinct sets, let's train a model! Now would be a good time to rejig the hyper parameters, as the ones we used before will be really bad for real data"
   ]
  },
  {
   "cell_type": "code",
   "execution_count": 221,
   "metadata": {},
   "outputs": [
    {
     "name": "stdout",
     "output_type": "stream",
     "text": [
      "0.451698670605613\n",
      "480 sentiment charged words\n",
      "\n",
      "Top 5 most positive words\n",
      "0.027793425306020043 // r\n",
      "0.02215782567326895 // aeon\n",
      "0.021742435535202737 // q\n",
      "0.014708118269400616 // index\n",
      "0.014573068589111258 // energy\n",
      "Top 5 most negative words\n",
      "-0.07463302535079452 // underlie\n",
      "-0.021867392725907202 // mar\n",
      "-0.014038100456705983 // operate\n",
      "-0.012554602860103153 // mobile\n",
      "-0.008259319996351957 // vice\n",
      "Model trained\n"
     ]
    }
   ],
   "source": [
    "ALPHA_MINUS = 0.1   #default 0.1\n",
    "ALPHA_PLUS  = 0.15  #default 0.15\n",
    "KAPPA       = 10    #default 10\n",
    "\n",
    "(pos_j, total_j, f)                 = calc_f(training_d)\n",
    "(sentiment_words, neutral_words)    = gen_sent_word_list(total_j, training_sgn)\n",
    "p           = calc_p(training_y)\n",
    "(s, d_s)    = calc_s(sentiment_words, training_d)\n",
    "h           = calc_h(sentiment_words, training_d)\n",
    "O           = calc_o(p,h)\n",
    "\n",
    "print(str(len(sentiment_words)) + \" sentiment charged words\\n\")\n",
    "# print(len(neutral_words))\n",
    "tone = np.zeros(0)\n",
    "for obj in O:\n",
    "    tone = np.append(tone, obj[0] - obj[1])\n",
    "top5 = tone.argsort()[-5:][::-1]\n",
    "bot5 = tone.argsort()[::-1][-5:][::-1]\n",
    "print(\"Top 5 most positive words\")\n",
    "for i in range(5):\n",
    "    print(str(tone[top5[i]]) + \" // \" + sentiment_words[top5[i]])\n",
    "\n",
    "print(\"Top 5 most negative words\")\n",
    "for i in range(5):\n",
    "    print(str(tone[bot5[i]]) + \" // \" + sentiment_words[bot5[i]])\n",
    "print(\"Model trained\")"
   ]
  },
  {
   "cell_type": "markdown",
   "metadata": {},
   "source": [
    "With the model trained, we can use the testing data to validate the model and see how it did vs real world data."
   ]
  },
  {
   "cell_type": "code",
   "execution_count": 238,
   "metadata": {},
   "outputs": [
    {
     "name": "stdout",
     "output_type": "stream",
     "text": [
      "Max estimated p: 0.9999935391945708\n",
      "Min estimated p: 0\n"
     ]
    }
   ],
   "source": [
    "est_p_test = []\n",
    "for test_index in range(len(testing_d)):\n",
    "    est_p = 0\n",
    "    testing_bow = testing_d[test_index]\n",
    "\n",
    "    testing_s = sum(testing_bow.get(w,0) for w in sentiment_words)\n",
    "    if (testing_s > 0):\n",
    "        est_p = fminbound(equation_to_solve, 0, 1, (testing_bow, sentiment_words,testing_s))\n",
    "    est_p_test.append(est_p)\n",
    "\n",
    "print(\"Max estimated p: \" + str(max(est_p_test)))\n",
    "print(\"Min estimated p: \" + str(min(est_p_test)))\n"
   ]
  },
  {
   "cell_type": "code",
   "execution_count": 257,
   "metadata": {},
   "outputs": [
    {
     "name": "stdout",
     "output_type": "stream",
     "text": [
      "set()\n",
      "No sentiment charged words\n"
     ]
    }
   ],
   "source": [
    "test_index = 308\n",
    "est_p = 0\n",
    "testing_bow = testing_d[test_index]\n",
    "\n",
    "testing_s = sum(testing_bow.get(w,0) for w in sentiment_words)\n",
    "# print(testing_bow)\n",
    "# for w in sentiment_words:\n",
    "#     count_sent = testing_bow.get(w,0)\n",
    "#     if count_sent > 0:\n",
    "#         print(w+ \":\" + str(testing_bow.get(w,0)))\n",
    "print(set(testing_bow).intersection(sentiment_words))\n",
    "points = int(100)\n",
    "xmin, xmax = 0.0, 1.0\n",
    "xlist = np.linspace(0,1,101)\n",
    "ylist = np.zeros(0)\n",
    "index = 0\n",
    "if (testing_s == 0):\n",
    "    print(\"No sentiment charged words\")\n",
    "else:\n",
    "    for x in xlist:\n",
    "        ylist = np.append(ylist,equation_to_solve(x, testing_bow, sentiment_words,testing_s))\n",
    "        index += 1\n",
    "    # xlist = map(lambda x: float(xmax - xmin)*x/points, range(points+1))\n",
    "    ylist *= -1\n",
    "    plt.plot(xlist, ylist)\n",
    "    plt.xlabel('p value')\n",
    "    plt.title(label='Values of p between 0 and 1 for article ' + str(test_index))\n",
    "    plt.show()\n",
    "\n",
    "    est_p = fminbound(equation_to_solve, 0, 1, (testing_bow, sentiment_words,testing_s))\n",
    "    print(\"No sentiment words: \" + str(testing_s))\n",
    "    print(\"Argmax when p=\" + str(est_p))\n",
    "    # print(\"Real p = \" + calc_p(training_y.append(testing_y[test_index]))\n",
    "    print(\"Real returns = \" + str(testing_y[test_index]))"
   ]
  }
 ],
 "metadata": {
  "interpreter": {
   "hash": "916dbcbb3f70747c44a77c7bcd40155683ae19c65e1c03b4aa3499c5328201f1"
  },
  "kernelspec": {
   "display_name": "Python 3.8.10 64-bit",
   "language": "python",
   "name": "python3"
  },
  "language_info": {
   "codemirror_mode": {
    "name": "ipython",
    "version": 3
   },
   "file_extension": ".py",
   "mimetype": "text/x-python",
   "name": "python",
   "nbconvert_exporter": "python",
   "pygments_lexer": "ipython3",
   "version": "3.8.10"
  },
  "orig_nbformat": 4
 },
 "nbformat": 4,
 "nbformat_minor": 2
}
